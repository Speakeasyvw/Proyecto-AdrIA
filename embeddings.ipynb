{
 "cells": [
  {
   "cell_type": "code",
   "execution_count": 1,
   "metadata": {},
   "outputs": [],
   "source": [
    "from langchain.text_splitter import RecursiveCharacterTextSplitter\n",
    "from langchain_openai import OpenAIEmbeddings\n",
    "from langchain_community.document_loaders import PyPDFLoader\n",
    "from langchain.docstore.document import Document  # Asegúrate de que esta línea esté incluida\n",
    "from langchain_chroma import Chroma\n",
    "import re\n"
   ]
  },
  {
   "cell_type": "code",
   "execution_count": 2,
   "metadata": {},
   "outputs": [
    {
     "data": {
      "text/plain": [
       "True"
      ]
     },
     "execution_count": 2,
     "metadata": {},
     "output_type": "execute_result"
    }
   ],
   "source": [
    "from dotenv import load_dotenv\n",
    "load_dotenv()"
   ]
  },
  {
   "cell_type": "code",
   "execution_count": 3,
   "metadata": {},
   "outputs": [],
   "source": [
    "#carga PDF\n",
    "PATH_PDF = \"docs\\constitucionar.pdf\"\n",
    "embeddings_model = OpenAIEmbeddings()\n",
    "\n",
    "loader = PyPDFLoader(PATH_PDF)\n",
    "documents = loader.load_and_split()"
   ]
  },
  {
   "cell_type": "code",
   "execution_count": 4,
   "metadata": {},
   "outputs": [],
   "source": [
    "full_text = \" \".join([doc.page_content for doc in documents])\n",
    "full_document = Document(page_content=full_text)"
   ]
  },
  {
   "cell_type": "code",
   "execution_count": 5,
   "metadata": {},
   "outputs": [],
   "source": [
    "# Dividir el texto en chunks\n",
    "text_splitter = RecursiveCharacterTextSplitter(\n",
    "    chunk_size=2000,  # Tamaño del chunk aumentado\n",
    "    chunk_overlap=500,  # Solapamiento del chunk aumentado\n",
    "    separators=[\"Artículo\", \"Art.\", \"\\n\\n\"]\n",
    ")\n",
    "chunks = text_splitter.split_documents([full_document])\n"
   ]
  },
  {
   "cell_type": "code",
   "execution_count": 6,
   "metadata": {},
   "outputs": [],
   "source": [
    "def add_metadata(chunks):\n",
    "    updated_chunks = []\n",
    "    for chunk in chunks:\n",
    "        match = re.search(r'Artículo\\s*(\\d+)', chunk.page_content)\n",
    "        if match:\n",
    "            article_number = match.group(1)\n",
    "            chunk.metadata = {\"article_number\": article_number}\n",
    "        updated_chunks.append(chunk)\n",
    "    return updated_chunks\n",
    "\n",
    "chunks = add_metadata(chunks)"
   ]
  },
  {
   "cell_type": "code",
   "execution_count": null,
   "metadata": {},
   "outputs": [],
   "source": [
    "# Verificar los chunks generados\n",
    "for i, chunk in enumerate(chunks):\n",
    "    print(f\"Chunk {i + 1}:\")\n",
    "    print(chunk.page_content)\n",
    "    print(\"\\n\" + \"-\"*80 + \"\\n\")"
   ]
  },
  {
   "cell_type": "code",
   "execution_count": 8,
   "metadata": {},
   "outputs": [],
   "source": [
    "vectorstore = Chroma.from_documents(\n",
    "    documents=chunks,  # Usar los chunks generados\n",
    "    embedding=embeddings_model,\n",
    "    persist_directory=\"docs/Chroma\"\n",
    ")"
   ]
  }
 ],
 "metadata": {
  "kernelspec": {
   "display_name": "Python 3",
   "language": "python",
   "name": "python3"
  },
  "language_info": {
   "codemirror_mode": {
    "name": "ipython",
    "version": 3
   },
   "file_extension": ".py",
   "mimetype": "text/x-python",
   "name": "python",
   "nbconvert_exporter": "python",
   "pygments_lexer": "ipython3",
   "version": "3.11.0"
  }
 },
 "nbformat": 4,
 "nbformat_minor": 2
}
